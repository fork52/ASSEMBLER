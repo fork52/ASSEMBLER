{
 "cells": [
  {
   "cell_type": "code",
   "execution_count": 1,
   "metadata": {},
   "outputs": [],
   "source": [
    "from itertools import permutations "
   ]
  },
  {
   "cell_type": "code",
   "execution_count": 2,
   "metadata": {},
   "outputs": [],
   "source": [
    "reg_combos = permutations(['A','B','C'],2)"
   ]
  },
  {
   "cell_type": "code",
   "execution_count": 3,
   "metadata": {},
   "outputs": [
    {
     "data": {
      "text/plain": "[('A', 'B'), ('A', 'C'), ('B', 'A'), ('B', 'C'), ('C', 'A'), ('C', 'B')]"
     },
     "execution_count": 3,
     "metadata": {},
     "output_type": "execute_result"
    }
   ],
   "source": [
    "list(reg_combos)"
   ]
  },
  {
   "cell_type": "markdown",
   "metadata": {},
   "source": [
    "## GENERATE RR TYPE INSTRUCTIONS"
   ]
  },
  {
   "cell_type": "code",
   "execution_count": 9,
   "metadata": {},
   "outputs": [],
   "source": [
    "def generate_instr(start_opcode,instr_name,length,format):\n",
    "    '''    '''\n",
    "    opcode = start_opcode\n",
    "    reg_combos = permutations(['A','B','C'],2)\n",
    "    for pair in list(reg_combos):\n",
    "        print( \"'\" + instr_name + ' ' + pair[0] + ',' + pair[1]  +\"'\" + ';' + str(opcode) + ';' + str(length) + ';' + format)\n",
    "        opcode +=1\n"
   ]
  },
  {
   "cell_type": "code",
   "execution_count": 10,
   "metadata": {},
   "outputs": [
    {
     "name": "stdout",
     "output_type": "stream",
     "text": "'MOV A,B';0;01;01\n'MOV A,C';1;01;01\n'MOV B,A';2;01;01\n'MOV B,C';3;01;01\n'MOV C,A';4;01;01\n'MOV C,B';5;01;01\n"
    }
   ],
   "source": [
    "# MOV INSTR\n",
    "generate_instr(0,'MOV','01','01')"
   ]
  },
  {
   "cell_type": "code",
   "execution_count": 11,
   "metadata": {},
   "outputs": [
    {
     "name": "stdout",
     "output_type": "stream",
     "text": "'ADD A,B';6;01;01\n'ADD A,C';7;01;01\n'ADD B,A';8;01;01\n'ADD B,C';9;01;01\n'ADD C,A';10;01;01\n'ADD C,B';11;01;01\n"
    }
   ],
   "source": [
    "# ADD INSTR\n",
    "generate_instr(6,'ADD','01','01')"
   ]
  },
  {
   "cell_type": "code",
   "execution_count": 12,
   "metadata": {},
   "outputs": [
    {
     "name": "stdout",
     "output_type": "stream",
     "text": "'SUB A,B';12;01;01\n'SUB A,C';13;01;01\n'SUB B,A';14;01;01\n'SUB B,C';15;01;01\n'SUB C,A';16;01;01\n'SUB C,B';17;01;01\n"
    }
   ],
   "source": [
    "generate_instr(12,'SUB','01','01')"
   ]
  },
  {
   "cell_type": "code",
   "execution_count": 13,
   "metadata": {},
   "outputs": [
    {
     "name": "stdout",
     "output_type": "stream",
     "text": "'MUL A,B';18;01;01\n'MUL A,C';19;01;01\n'MUL B,A';20;01;01\n'MUL B,C';21;01;01\n'MUL C,A';22;01;01\n'MUL C,B';23;01;01\n"
    }
   ],
   "source": [
    "generate_instr(18,'MUL','01','01')"
   ]
  },
  {
   "cell_type": "markdown",
   "metadata": {},
   "source": [
    "## GENERATE IMMDEDIATE TYPE INSTRUCTIONS"
   ]
  },
  {
   "cell_type": "code",
   "execution_count": 20,
   "metadata": {},
   "outputs": [],
   "source": [
    "def generate_instr2(start_opcode,instr_name,length,format):\n",
    "    '''\n",
    "    '''\n",
    "    opcode = start_opcode\n",
    "    reg_list = ['A','B','C']\n",
    "    for reg in reg_list:\n",
    "        print( \"'\" + instr_name + ' '+reg+\",val\" + ';' + str(opcode) + ';' + str(length) + ';' + format)\n",
    "        opcode +=1\n"
   ]
  },
  {
   "cell_type": "code",
   "execution_count": 21,
   "metadata": {},
   "outputs": [
    {
     "name": "stdout",
     "output_type": "stream",
     "text": "'ROR A,val';24;10;02\n'ROR B,val';25;10;02\n'ROR C,val';26;10;02\n"
    }
   ],
   "source": [
    "generate_instr2(24,'ROR','10','02')"
   ]
  },
  {
   "cell_type": "code",
   "execution_count": 22,
   "metadata": {},
   "outputs": [
    {
     "name": "stdout",
     "output_type": "stream",
     "text": "'ADD A,val';27;10;02\n'ADD B,val';28;10;02\n'ADD C,val';29;10;02\n"
    }
   ],
   "source": [
    "generate_instr2(27,'ADD','10','02')"
   ]
  },
  {
   "cell_type": "code",
   "execution_count": 23,
   "metadata": {},
   "outputs": [
    {
     "name": "stdout",
     "output_type": "stream",
     "text": "'SUB A,val';30;10;02\n'SUB B,val';31;10;02\n'SUB C,val';32;10;02\n"
    }
   ],
   "source": [
    "generate_instr2(30,'SUB','10','02')"
   ]
  },
  {
   "cell_type": "code",
   "execution_count": 24,
   "metadata": {},
   "outputs": [
    {
     "name": "stdout",
     "output_type": "stream",
     "text": "'MUL A,val';33;10;02\n'MUL B,val';34;10;02\n'MUL C,val';35;10;02\n"
    }
   ],
   "source": [
    "generate_instr2(33,'MUL','10','02')"
   ]
  },
  {
   "cell_type": "code",
   "execution_count": 25,
   "metadata": {},
   "outputs": [
    {
     "name": "stdout",
     "output_type": "stream",
     "text": "'MOV A,val';36;10;02\n'MOV B,val';37;10;02\n'MOV C,val';38;10;02\n"
    }
   ],
   "source": [
    "generate_instr2(36,'MOV','10','02')"
   ]
  },
  {
   "cell_type": "markdown",
   "metadata": {},
   "source": [
    "## GENERATE Reg-Mem TYPE INSTRUCTIONS"
   ]
  },
  {
   "cell_type": "code",
   "execution_count": 8,
   "metadata": {},
   "outputs": [],
   "source": [
    "def generate_instr3(start_opcode,instr_name,length,format):\n",
    "    ''''''\n",
    "    opcode = start_opcode\n",
    "    reg_list = ['A','B','C']\n",
    "    for reg in reg_list:\n",
    "        print( instr_name + ' '+reg+\",mem\" + ';' + str(opcode) + ';' + str(length) + ';' + format)\n",
    "        opcode +=1"
   ]
  },
  {
   "cell_type": "code",
   "execution_count": 9,
   "metadata": {},
   "outputs": [
    {
     "name": "stdout",
     "output_type": "stream",
     "text": "MOV A,mem;40;11;03\nMOV B,mem;41;11;03\nMOV C,mem;42;11;03\n"
    }
   ],
   "source": [
    "generate_instr3(40,'MOV','11','03')"
   ]
  },
  {
   "cell_type": "code",
   "execution_count": 15,
   "metadata": {},
   "outputs": [
    {
     "name": "stdout",
     "output_type": "stream",
     "text": "ADD A,mem;43;11;03\nADD B,mem;44;11;03\nADD C,mem;45;11;03\n"
    }
   ],
   "source": [
    "generate_instr3(43,'ADD','11','03')"
   ]
  },
  {
   "cell_type": "code",
   "execution_count": 16,
   "metadata": {},
   "outputs": [
    {
     "name": "stdout",
     "output_type": "stream",
     "text": "SUB A,mem;46;11;03\nSUB B,mem;47;11;03\nSUB C,mem;48;11;03\n"
    }
   ],
   "source": [
    "generate_instr3(46,'SUB','11','03')"
   ]
  },
  {
   "cell_type": "code",
   "execution_count": 17,
   "metadata": {},
   "outputs": [
    {
     "name": "stdout",
     "output_type": "stream",
     "text": "MUL A,mem;49;11;03\nMUL B,mem;50;11;03\nMUL C,mem;51;11;03\n"
    }
   ],
   "source": [
    "generate_instr3(49,'MUL','11','03')"
   ]
  },
  {
   "cell_type": "code",
   "execution_count": null,
   "metadata": {},
   "outputs": [],
   "source": []
  }
 ],
 "metadata": {
  "file_extension": ".py",
  "kernelspec": {
   "display_name": "Python 3.7.4 64-bit ('base': conda)",
   "language": "python",
   "name": "python37464bitbasecondab8ca80c25c0d444490c399c934014232"
  },
  "language_info": {
   "codemirror_mode": {
    "name": "ipython",
    "version": 3
   },
   "file_extension": ".py",
   "mimetype": "text/x-python",
   "name": "python",
   "nbconvert_exporter": "python",
   "pygments_lexer": "ipython3",
   "version": "3.7.4-final"
  },
  "mimetype": "text/x-python",
  "name": "python",
  "npconvert_exporter": "python",
  "pygments_lexer": "ipython3",
  "version": 3
 },
 "nbformat": 4,
 "nbformat_minor": 2
}