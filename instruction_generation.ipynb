{
 "nbformat": 4,
 "nbformat_minor": 2,
 "metadata": {
  "language_info": {
   "name": "python",
   "codemirror_mode": {
    "name": "ipython",
    "version": 3
   },
   "version": "3.7.4-final"
  },
  "orig_nbformat": 2,
  "file_extension": ".py",
  "mimetype": "text/x-python",
  "name": "python",
  "npconvert_exporter": "python",
  "pygments_lexer": "ipython3",
  "version": 3,
  "kernelspec": {
   "name": "python37464bitbasecondab8ca80c25c0d444490c399c934014232",
   "display_name": "Python 3.7.4 64-bit ('base': conda)"
  }
 },
 "cells": [
  {
   "cell_type": "code",
   "execution_count": 62,
   "metadata": {},
   "outputs": [],
   "source": [
    "from itertools import permutations "
   ]
  },
  {
   "cell_type": "code",
   "execution_count": 63,
   "metadata": {},
   "outputs": [],
   "source": [
    "reg_combos = permutations(['A','B','C'],2)"
   ]
  },
  {
   "cell_type": "code",
   "execution_count": 64,
   "metadata": {},
   "outputs": [
    {
     "data": {
      "text/plain": "[('A', 'B'), ('A', 'C'), ('B', 'A'), ('B', 'C'), ('C', 'A'), ('C', 'B')]"
     },
     "execution_count": 64,
     "metadata": {},
     "output_type": "execute_result"
    }
   ],
   "source": [
    "list(reg_combos)"
   ]
  },
  {
   "cell_type": "markdown",
   "metadata": {},
   "source": [
    "## GENERATE RR TYPE INSTRUCTIONS"
   ]
  },
  {
   "cell_type": "code",
   "execution_count": 65,
   "metadata": {},
   "outputs": [],
   "source": [
    "def generate_instr(start_opcode,instr_name,length,format):\n",
    "    '''    '''\n",
    "    opcode = start_opcode\n",
    "    reg_combos = permutations(['A','B','C'],2)\n",
    "    for pair in list(reg_combos):\n",
    "        print( \"'\" + instr_name + ' ' + pair[0] + ',' + pair[1]  +\"'\" + ',' + str(opcode) + ',' + str(length) + ',' + format)\n",
    "        opcode +=1\n"
   ]
  },
  {
   "cell_type": "code",
   "execution_count": 71,
   "metadata": {},
   "outputs": [
    {
     "name": "stdout",
     "output_type": "stream",
     "text": "'MOV A,B',0,01,01\n'MOV A,C',1,01,01\n'MOV B,A',2,01,01\n'MOV B,C',3,01,01\n'MOV C,A',4,01,01\n'MOV C,B',5,01,01\n"
    }
   ],
   "source": [
    "# MOV INSTR\n",
    "generate_instr(0,'MOV','01','01')"
   ]
  },
  {
   "cell_type": "code",
   "execution_count": 73,
   "metadata": {},
   "outputs": [
    {
     "name": "stdout",
     "output_type": "stream",
     "text": "'ADD A,B',6,01,01\n'ADD A,C',7,01,01\n'ADD B,A',8,01,01\n'ADD B,C',9,01,01\n'ADD C,A',10,01,01\n'ADD C,B',11,01,01\n"
    }
   ],
   "source": [
    "# ADD INSTR\n",
    "generate_instr(6,'ADD','01','01')"
   ]
  },
  {
   "cell_type": "code",
   "execution_count": 74,
   "metadata": {},
   "outputs": [
    {
     "name": "stdout",
     "output_type": "stream",
     "text": "'SUB A,B',12,01,01\n'SUB A,C',13,01,01\n'SUB B,A',14,01,01\n'SUB B,C',15,01,01\n'SUB C,A',16,01,01\n'SUB C,B',17,01,01\n"
    }
   ],
   "source": [
    "generate_instr(12,'SUB','01','01')"
   ]
  },
  {
   "cell_type": "code",
   "execution_count": 75,
   "metadata": {},
   "outputs": [
    {
     "name": "stdout",
     "output_type": "stream",
     "text": "'MUL A,B',18,01,01\n'MUL A,C',19,01,01\n'MUL B,A',20,01,01\n'MUL B,C',21,01,01\n'MUL C,A',22,01,01\n'MUL C,B',23,01,01\n"
    }
   ],
   "source": [
    "generate_instr(18,'MUL','01','01')"
   ]
  },
  {
   "cell_type": "markdown",
   "metadata": {},
   "source": [
    "## GENERATE IMMDEDIATE TYPE INSTRUCTIONS"
   ]
  },
  {
   "cell_type": "code",
   "execution_count": 81,
   "metadata": {},
   "outputs": [],
   "source": [
    "def generate_instr2(start_opcode,instr_name,length,format):\n",
    "    '''\n",
    "    '''\n",
    "    opcode = start_opcode\n",
    "    reg_list = ['A','B','C']\n",
    "    for reg in reg_list:\n",
    "        print( \"'\" + instr_name + ' '+reg+\",val'\" + ',' + str(opcode) + ',' + str(length) + ',' + format)\n",
    "        opcode +=1\n"
   ]
  },
  {
   "cell_type": "code",
   "execution_count": 82,
   "metadata": {},
   "outputs": [
    {
     "name": "stdout",
     "output_type": "stream",
     "text": "'ROR A,val',24,10,02\n'ROR B,val',25,10,02\n'ROR C,val',26,10,02\n"
    }
   ],
   "source": [
    "generate_instr2(24,'ROR','10','02')"
   ]
  },
  {
   "cell_type": "code",
   "execution_count": 84,
   "metadata": {},
   "outputs": [
    {
     "name": "stdout",
     "output_type": "stream",
     "text": "'ADD A,val',27,10,02\n'ADD B,val',28,10,02\n'ADD C,val',29,10,02\n"
    }
   ],
   "source": [
    "generate_instr2(27,'ADD','10','02')"
   ]
  },
  {
   "cell_type": "code",
   "execution_count": 85,
   "metadata": {},
   "outputs": [
    {
     "name": "stdout",
     "output_type": "stream",
     "text": "'SUB A,val',30,10,02\n'SUB B,val',31,10,02\n'SUB C,val',32,10,02\n"
    }
   ],
   "source": [
    "generate_instr2(30,'SUB','10','02')"
   ]
  },
  {
   "cell_type": "code",
   "execution_count": 86,
   "metadata": {},
   "outputs": [
    {
     "name": "stdout",
     "output_type": "stream",
     "text": "'MUL A,val',33,10,02\n'MUL B,val',34,10,02\n'MUL C,val',35,10,02\n"
    }
   ],
   "source": [
    "generate_instr2(33,'MUL','10','02')"
   ]
  },
  {
   "cell_type": "code",
   "execution_count": 87,
   "metadata": {},
   "outputs": [
    {
     "name": "stdout",
     "output_type": "stream",
     "text": "'MOV A,val',36,10,02\n'MOV B,val',37,10,02\n'MOV C,val',38,10,02\n"
    }
   ],
   "source": [
    "generate_instr2(36,'MOV','10','02')"
   ]
  },
  {
   "cell_type": "code",
   "execution_count": null,
   "metadata": {},
   "outputs": [],
   "source": []
  }
 ]
}